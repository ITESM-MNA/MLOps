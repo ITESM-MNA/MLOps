{
 "cells": [
  {
   "cell_type": "markdown",
   "id": "b69fb64b",
   "metadata": {},
   "source": [
    "# Model Tracking, logging, versioning and registry"
   ]
  },
  {
   "cell_type": "code",
   "execution_count": 27,
   "id": "7cf510ca",
   "metadata": {},
   "outputs": [],
   "source": [
    "import mlflow\n",
    "from dotenv import load_dotenv\n",
    "import os\n",
    "\n",
    "load_dotenv()\n",
    "\n",
    "mlflow.set_tracking_uri(os.getenv(\"MLFLOW_TRACKING_URI\"))"
   ]
  },
  {
   "cell_type": "markdown",
   "id": "8cd198a5",
   "metadata": {},
   "source": [
    "## Notebook Naming Conventions\n",
    "\n",
    "`0.01` – Keeps work in **chronological order**.  \n",
    "The structure follows:  \n",
    "**PHASE.NOTEBOOK-INITIALS-DESCRIPTION.ipynb**\n",
    "\n",
    "### Structure Details\n",
    "- **PHASE** — Indicates the project phase.  \n",
    "- **NOTEBOOK** — Sequential number of the notebook within that phase.  \n",
    "- **INITIALS** — Your initials (helps identify authors and avoid naming conflicts).  \n",
    "- **DESCRIPTION** — Short description of what the notebook covers.\n",
    "\n",
    "### Recommended Phases\n",
    "You can adapt these to your workflow, but a common scheme is:\n",
    "\n",
    "| Phase | Description | Typical Output |\n",
    "|--------|--------------|----------------|\n",
    "| **0 – Data Exploration** | Initial exploratory work, inspecting raw data. | EDA notes, quick insights. |\n",
    "| **1 – Data Cleaning & Feature Creation** | Data preprocessing and feature engineering. | Cleaned datasets in `data/processed` or `data/interim`. |\n",
    "| **2 – Visualizations** | Creating exploratory or publication-quality visualizations. | Figures for reports or papers. |\n",
    "| **3 – Modeling** | Training, tuning, and evaluating machine learning models. | Trained models, metrics, serialized outputs. |\n",
    "| **4 – Publication / Reporting** | Notebooks converted into final reports or presentations. | Markdown, PDFs, or published visuals. |\n",
    "\n",
    "### Naming Components\n",
    "- `0.01` → Phase 0, first notebook in that phase.  \n",
    "- `ira` → Your initials.  \n",
    "- `data-source-1` → Short description of the notebook’s focus."
   ]
  },
  {
   "cell_type": "markdown",
   "id": "f1a3c7f4",
   "metadata": {},
   "source": [
    "# Autolog"
   ]
  },
  {
   "cell_type": "code",
   "execution_count": 28,
   "id": "82a58a06",
   "metadata": {},
   "outputs": [
    {
     "name": "stderr",
     "output_type": "stream",
     "text": [
      "2025/10/04 22:56:24 INFO mlflow.tracking.fluent: Experiment with name 'autolog-example' does not exist. Creating a new experiment.\n"
     ]
    },
    {
     "data": {
      "text/plain": [
       "<Experiment: artifact_location='file:C:/Users/ivanr/apps/MLOps/mna-2.2-tracking/mlruns/1', creation_time=1759640184856, experiment_id='1', last_update_time=1759640184856, lifecycle_stage='active', name='autolog-example', tags={}>"
      ]
     },
     "execution_count": 28,
     "metadata": {},
     "output_type": "execute_result"
    }
   ],
   "source": [
    "mlflow.set_experiment(\"autolog-example\")"
   ]
  },
  {
   "cell_type": "code",
   "execution_count": 29,
   "id": "04d9602a",
   "metadata": {},
   "outputs": [
    {
     "data": {
      "text/html": [
       "<div>\n",
       "<style scoped>\n",
       "    .dataframe tbody tr th:only-of-type {\n",
       "        vertical-align: middle;\n",
       "    }\n",
       "\n",
       "    .dataframe tbody tr th {\n",
       "        vertical-align: top;\n",
       "    }\n",
       "\n",
       "    .dataframe thead th {\n",
       "        text-align: right;\n",
       "    }\n",
       "</style>\n",
       "<table border=\"1\" class=\"dataframe\">\n",
       "  <thead>\n",
       "    <tr style=\"text-align: right;\">\n",
       "      <th></th>\n",
       "      <th>fixed acidity</th>\n",
       "      <th>volatile acidity</th>\n",
       "      <th>citric acid</th>\n",
       "      <th>residual sugar</th>\n",
       "      <th>chlorides</th>\n",
       "      <th>free sulfur dioxide</th>\n",
       "      <th>total sulfur dioxide</th>\n",
       "      <th>density</th>\n",
       "      <th>pH</th>\n",
       "      <th>sulphates</th>\n",
       "      <th>alcohol</th>\n",
       "      <th>quality</th>\n",
       "    </tr>\n",
       "  </thead>\n",
       "  <tbody>\n",
       "    <tr>\n",
       "      <th>0</th>\n",
       "      <td>7.4</td>\n",
       "      <td>0.70</td>\n",
       "      <td>0.00</td>\n",
       "      <td>1.9</td>\n",
       "      <td>0.076</td>\n",
       "      <td>11.0</td>\n",
       "      <td>34.0</td>\n",
       "      <td>0.9978</td>\n",
       "      <td>3.51</td>\n",
       "      <td>0.56</td>\n",
       "      <td>9.4</td>\n",
       "      <td>5</td>\n",
       "    </tr>\n",
       "    <tr>\n",
       "      <th>1</th>\n",
       "      <td>7.8</td>\n",
       "      <td>0.88</td>\n",
       "      <td>0.00</td>\n",
       "      <td>2.6</td>\n",
       "      <td>0.098</td>\n",
       "      <td>25.0</td>\n",
       "      <td>67.0</td>\n",
       "      <td>0.9968</td>\n",
       "      <td>3.20</td>\n",
       "      <td>0.68</td>\n",
       "      <td>9.8</td>\n",
       "      <td>5</td>\n",
       "    </tr>\n",
       "    <tr>\n",
       "      <th>2</th>\n",
       "      <td>7.8</td>\n",
       "      <td>0.76</td>\n",
       "      <td>0.04</td>\n",
       "      <td>2.3</td>\n",
       "      <td>0.092</td>\n",
       "      <td>15.0</td>\n",
       "      <td>54.0</td>\n",
       "      <td>0.9970</td>\n",
       "      <td>3.26</td>\n",
       "      <td>0.65</td>\n",
       "      <td>9.8</td>\n",
       "      <td>5</td>\n",
       "    </tr>\n",
       "    <tr>\n",
       "      <th>3</th>\n",
       "      <td>11.2</td>\n",
       "      <td>0.28</td>\n",
       "      <td>0.56</td>\n",
       "      <td>1.9</td>\n",
       "      <td>0.075</td>\n",
       "      <td>17.0</td>\n",
       "      <td>60.0</td>\n",
       "      <td>0.9980</td>\n",
       "      <td>3.16</td>\n",
       "      <td>0.58</td>\n",
       "      <td>9.8</td>\n",
       "      <td>6</td>\n",
       "    </tr>\n",
       "    <tr>\n",
       "      <th>4</th>\n",
       "      <td>7.4</td>\n",
       "      <td>0.70</td>\n",
       "      <td>0.00</td>\n",
       "      <td>1.9</td>\n",
       "      <td>0.076</td>\n",
       "      <td>11.0</td>\n",
       "      <td>34.0</td>\n",
       "      <td>0.9978</td>\n",
       "      <td>3.51</td>\n",
       "      <td>0.56</td>\n",
       "      <td>9.4</td>\n",
       "      <td>5</td>\n",
       "    </tr>\n",
       "  </tbody>\n",
       "</table>\n",
       "</div>"
      ],
      "text/plain": [
       "   fixed acidity  volatile acidity  citric acid  residual sugar  chlorides  \\\n",
       "0            7.4              0.70         0.00             1.9      0.076   \n",
       "1            7.8              0.88         0.00             2.6      0.098   \n",
       "2            7.8              0.76         0.04             2.3      0.092   \n",
       "3           11.2              0.28         0.56             1.9      0.075   \n",
       "4            7.4              0.70         0.00             1.9      0.076   \n",
       "\n",
       "   free sulfur dioxide  total sulfur dioxide  density    pH  sulphates  \\\n",
       "0                 11.0                  34.0   0.9978  3.51       0.56   \n",
       "1                 25.0                  67.0   0.9968  3.20       0.68   \n",
       "2                 15.0                  54.0   0.9970  3.26       0.65   \n",
       "3                 17.0                  60.0   0.9980  3.16       0.58   \n",
       "4                 11.0                  34.0   0.9978  3.51       0.56   \n",
       "\n",
       "   alcohol  quality  \n",
       "0      9.4        5  \n",
       "1      9.8        5  \n",
       "2      9.8        5  \n",
       "3      9.8        6  \n",
       "4      9.4        5  "
      ]
     },
     "execution_count": 29,
     "metadata": {},
     "output_type": "execute_result"
    }
   ],
   "source": [
    "import pandas as pd\n",
    "\n",
    "df = pd.read_csv(\"../data/raw/winequality-red.csv\")\n",
    "df.head()"
   ]
  },
  {
   "cell_type": "code",
   "execution_count": 30,
   "id": "750a1791",
   "metadata": {},
   "outputs": [],
   "source": [
    "from sklearn.model_selection import train_test_split\n",
    "from sklearn.ensemble import RandomForestClassifier\n",
    "\n",
    "X = df.drop(columns=[\"quality\"])\n",
    "y = df[\"quality\"]\n",
    "\n",
    "mlflow.sklearn.autolog()\n",
    "X_train, X_test, y_train, y_test = train_test_split(X, y, test_size=0.2, random_state=42)\n"
   ]
  },
  {
   "cell_type": "code",
   "execution_count": 31,
   "id": "b916af58",
   "metadata": {},
   "outputs": [
    {
     "data": {
      "text/plain": [
       "0.6625"
      ]
     },
     "execution_count": 31,
     "metadata": {},
     "output_type": "execute_result"
    }
   ],
   "source": [
    "mlflow.start_run(run_name=\"random-forest-classifier\")\n",
    "model = RandomForestClassifier()\n",
    "model.fit(X_train, y_train)\n",
    "model.score(X_test, y_test)"
   ]
  },
  {
   "cell_type": "code",
   "execution_count": 32,
   "id": "65d52a2e",
   "metadata": {},
   "outputs": [
    {
     "name": "stdout",
     "output_type": "stream",
     "text": [
      "🏃 View run random-forest-classifier at: http://localhost:5000/#/experiments/1/runs/5d3412109d344fffb43f1ebbc83b9623\n",
      "🧪 View experiment at: http://localhost:5000/#/experiments/1\n"
     ]
    }
   ],
   "source": [
    "mlflow.end_run()"
   ]
  },
  {
   "cell_type": "markdown",
   "id": "68b75339",
   "metadata": {},
   "source": [
    "# Loading Models"
   ]
  },
  {
   "cell_type": "code",
   "execution_count": 33,
   "id": "52b9633e",
   "metadata": {},
   "outputs": [],
   "source": [
    "runs = mlflow.search_runs(\n",
    "    search_all_experiments=True,\n",
    "    order_by=[\"start_time DESC\"],\n",
    "    filter_string=\"status='FINISHED'\"\n",
    ")"
   ]
  },
  {
   "cell_type": "code",
   "execution_count": 34,
   "id": "20b78ba2",
   "metadata": {},
   "outputs": [
    {
     "data": {
      "text/html": [
       "<div>\n",
       "<style scoped>\n",
       "    .dataframe tbody tr th:only-of-type {\n",
       "        vertical-align: middle;\n",
       "    }\n",
       "\n",
       "    .dataframe tbody tr th {\n",
       "        vertical-align: top;\n",
       "    }\n",
       "\n",
       "    .dataframe thead th {\n",
       "        text-align: right;\n",
       "    }\n",
       "</style>\n",
       "<table border=\"1\" class=\"dataframe\">\n",
       "  <thead>\n",
       "    <tr style=\"text-align: right;\">\n",
       "      <th></th>\n",
       "      <th>run_id</th>\n",
       "      <th>experiment_id</th>\n",
       "      <th>status</th>\n",
       "      <th>artifact_uri</th>\n",
       "      <th>start_time</th>\n",
       "      <th>end_time</th>\n",
       "      <th>metrics.training_score</th>\n",
       "      <th>metrics.training_accuracy_score</th>\n",
       "      <th>metrics.RandomForestClassifier_score_X_test</th>\n",
       "      <th>metrics.training_recall_score</th>\n",
       "      <th>...</th>\n",
       "      <th>params.random_state</th>\n",
       "      <th>params.ccp_alpha</th>\n",
       "      <th>params.min_weight_fraction_leaf</th>\n",
       "      <th>params.n_estimators</th>\n",
       "      <th>tags.mlflow.user</th>\n",
       "      <th>tags.estimator_name</th>\n",
       "      <th>tags.estimator_class</th>\n",
       "      <th>tags.mlflow.source.name</th>\n",
       "      <th>tags.mlflow.source.type</th>\n",
       "      <th>tags.mlflow.runName</th>\n",
       "    </tr>\n",
       "  </thead>\n",
       "  <tbody>\n",
       "    <tr>\n",
       "      <th>0</th>\n",
       "      <td>5d3412109d344fffb43f1ebbc83b9623</td>\n",
       "      <td>1</td>\n",
       "      <td>FINISHED</td>\n",
       "      <td>file:C:/Users/ivanr/apps/MLOps/mna-2.2-trackin...</td>\n",
       "      <td>2025-10-05 04:58:18.005000+00:00</td>\n",
       "      <td>2025-10-05 04:59:23.491000+00:00</td>\n",
       "      <td>1.0</td>\n",
       "      <td>1.0</td>\n",
       "      <td>0.6625</td>\n",
       "      <td>1.0</td>\n",
       "      <td>...</td>\n",
       "      <td>None</td>\n",
       "      <td>0.0</td>\n",
       "      <td>0.0</td>\n",
       "      <td>100</td>\n",
       "      <td>ivanr</td>\n",
       "      <td>RandomForestClassifier</td>\n",
       "      <td>sklearn.ensemble._forest.RandomForestClassifier</td>\n",
       "      <td>c:\\Users\\ivanr\\apps\\MLOps\\mna-2.2-tracking\\mlo...</td>\n",
       "      <td>LOCAL</td>\n",
       "      <td>random-forest-classifier</td>\n",
       "    </tr>\n",
       "  </tbody>\n",
       "</table>\n",
       "<p>1 rows × 39 columns</p>\n",
       "</div>"
      ],
      "text/plain": [
       "                             run_id experiment_id    status  \\\n",
       "0  5d3412109d344fffb43f1ebbc83b9623             1  FINISHED   \n",
       "\n",
       "                                        artifact_uri  \\\n",
       "0  file:C:/Users/ivanr/apps/MLOps/mna-2.2-trackin...   \n",
       "\n",
       "                        start_time                         end_time  \\\n",
       "0 2025-10-05 04:58:18.005000+00:00 2025-10-05 04:59:23.491000+00:00   \n",
       "\n",
       "   metrics.training_score  metrics.training_accuracy_score  \\\n",
       "0                     1.0                              1.0   \n",
       "\n",
       "   metrics.RandomForestClassifier_score_X_test  metrics.training_recall_score  \\\n",
       "0                                       0.6625                            1.0   \n",
       "\n",
       "   ...  params.random_state  params.ccp_alpha  \\\n",
       "0  ...                 None               0.0   \n",
       "\n",
       "   params.min_weight_fraction_leaf  params.n_estimators tags.mlflow.user  \\\n",
       "0                              0.0                  100            ivanr   \n",
       "\n",
       "      tags.estimator_name                             tags.estimator_class  \\\n",
       "0  RandomForestClassifier  sklearn.ensemble._forest.RandomForestClassifier   \n",
       "\n",
       "                             tags.mlflow.source.name tags.mlflow.source.type  \\\n",
       "0  c:\\Users\\ivanr\\apps\\MLOps\\mna-2.2-tracking\\mlo...                   LOCAL   \n",
       "\n",
       "        tags.mlflow.runName  \n",
       "0  random-forest-classifier  \n",
       "\n",
       "[1 rows x 39 columns]"
      ]
     },
     "execution_count": 34,
     "metadata": {},
     "output_type": "execute_result"
    }
   ],
   "source": [
    "runs"
   ]
  },
  {
   "cell_type": "code",
   "execution_count": 35,
   "id": "6fe53c4d",
   "metadata": {},
   "outputs": [],
   "source": [
    "run_id = runs.run_id[0]\n",
    "model_uri = f\"runs:/{run_id}/model\"\n",
    "loaded_model = mlflow.sklearn.load_model(model_uri)"
   ]
  },
  {
   "cell_type": "code",
   "execution_count": 36,
   "id": "5ba76bc4",
   "metadata": {},
   "outputs": [
    {
     "data": {
      "text/plain": [
       "array([5, 5, 5, 5, 6, 5, 5, 5, 6, 6, 7, 5, 6, 5, 6, 7, 5, 6, 7, 5, 5, 6,\n",
       "       5, 6, 5, 6, 6, 5, 5, 6, 5, 5, 6, 6, 6, 5, 6, 6, 5, 6, 5, 5, 6, 5,\n",
       "       6, 6, 7, 6, 5, 6, 5, 5, 6, 7, 5, 6, 6, 6, 6, 5, 6, 6, 6, 5, 7, 6,\n",
       "       7, 6, 7, 5, 6, 5, 6, 6, 6, 5, 7, 5, 6, 7, 5, 7, 5, 6, 6, 6, 5, 6,\n",
       "       6, 5, 6, 5, 5, 5, 5, 5, 5, 6, 5, 6, 5, 5, 6, 7, 6, 7, 6, 5, 6, 5,\n",
       "       7, 5, 7, 5, 6, 6, 6, 5, 5, 6, 6, 6, 6, 5, 6, 5, 6, 5, 5, 6, 6, 5,\n",
       "       5, 6, 6, 5, 5, 5, 5, 6, 7, 6, 7, 5, 6, 5, 6, 6, 6, 5, 6, 6, 6, 5,\n",
       "       6, 5, 6, 6, 5, 6, 5, 6, 6, 5, 5, 6, 6, 5, 5, 5, 5, 5, 7, 5, 7, 6,\n",
       "       6, 5, 5, 5, 5, 6, 5, 6, 5, 7, 6, 6, 7, 5, 6, 6, 5, 6, 6, 5, 5, 6,\n",
       "       5, 7, 5, 5, 5, 5, 7, 6, 5, 6, 6, 6, 8, 5, 5, 6, 6, 6, 6, 5, 6, 6,\n",
       "       5, 6, 6, 6, 6, 5, 5, 7, 5, 5, 5, 5, 6, 6, 5, 7, 5, 6, 6, 5, 5, 5,\n",
       "       6, 7, 5, 7, 6, 6, 6, 5, 6, 5, 5, 6, 6, 5, 6, 6, 6, 6, 6, 6, 5, 7,\n",
       "       6, 6, 5, 5, 6, 6, 5, 6, 5, 6, 6, 6, 6, 6, 6, 6, 7, 5, 5, 5, 5, 7,\n",
       "       5, 6, 5, 6, 5, 7, 6, 5, 5, 6, 5, 7, 6, 6, 5, 5, 6, 6, 6, 5, 6, 6,\n",
       "       6, 7, 5, 5, 6, 6, 6, 6, 5, 5, 6, 5])"
      ]
     },
     "execution_count": 36,
     "metadata": {},
     "output_type": "execute_result"
    }
   ],
   "source": [
    "loaded_model.predict(X_test)"
   ]
  },
  {
   "cell_type": "markdown",
   "id": "2e400639",
   "metadata": {},
   "source": [
    "# Custom Logging and Nested Runs"
   ]
  },
  {
   "cell_type": "code",
   "execution_count": 37,
   "id": "c320af27",
   "metadata": {},
   "outputs": [],
   "source": [
    "mlflow.autolog(disable=True)"
   ]
  },
  {
   "cell_type": "code",
   "execution_count": 38,
   "id": "68bbed31",
   "metadata": {},
   "outputs": [
    {
     "name": "stderr",
     "output_type": "stream",
     "text": [
      "2025/10/04 23:03:15 INFO mlflow.tracking.fluent: Experiment with name 'rf-classifier-nested-tuning' does not exist. Creating a new experiment.\n"
     ]
    }
   ],
   "source": [
    "mlflow.set_experiment(\"rf-classifier-nested-tuning\") \n",
    "\n",
    "param_grid = [\n",
    "    {\"n_estimators\": 100, \"max_depth\": None, \"min_samples_split\": 2, \"min_samples_leaf\": 1},\n",
    "    {\"n_estimators\": 200, \"max_depth\": 8,    \"min_samples_split\": 2, \"min_samples_leaf\": 1},\n",
    "    {\"n_estimators\": 300, \"max_depth\": 12,   \"min_samples_split\": 5, \"min_samples_leaf\": 2},\n",
    "    {\"n_estimators\": 400, \"max_depth\": None, \"min_samples_split\": 10,\"min_samples_leaf\": 1},\n",
    "    {\"n_estimators\": 200, \"max_depth\": 16,   \"min_samples_split\": 2, \"min_samples_leaf\": 4},\n",
    "]"
   ]
  },
  {
   "cell_type": "code",
   "execution_count": 39,
   "id": "04252844",
   "metadata": {},
   "outputs": [
    {
     "name": "stderr",
     "output_type": "stream",
     "text": [
      "2025/10/04 23:06:02 WARNING mlflow.models.model: `artifact_path` is deprecated. Please use `name` instead.\n",
      "2025/10/04 23:06:06 WARNING mlflow.models.model: Model logged without a signature and input example. Please set `input_example` parameter when logging the model to auto infer the model signature.\n"
     ]
    },
    {
     "name": "stdout",
     "output_type": "stream",
     "text": [
      "🏃 View run trial-1 at: http://localhost:5000/#/experiments/2/runs/3827d61f38614c779acd5ad76bb250c1\n",
      "🧪 View experiment at: http://localhost:5000/#/experiments/2\n"
     ]
    },
    {
     "name": "stderr",
     "output_type": "stream",
     "text": [
      "2025/10/04 23:06:13 WARNING mlflow.models.model: `artifact_path` is deprecated. Please use `name` instead.\n",
      "2025/10/04 23:06:17 WARNING mlflow.models.model: Model logged without a signature and input example. Please set `input_example` parameter when logging the model to auto infer the model signature.\n"
     ]
    },
    {
     "name": "stdout",
     "output_type": "stream",
     "text": [
      "🏃 View run trial-2 at: http://localhost:5000/#/experiments/2/runs/f0ecb842d0cd461dac00f014a5c28aec\n",
      "🧪 View experiment at: http://localhost:5000/#/experiments/2\n"
     ]
    },
    {
     "name": "stderr",
     "output_type": "stream",
     "text": [
      "2025/10/04 23:06:23 WARNING mlflow.models.model: `artifact_path` is deprecated. Please use `name` instead.\n",
      "2025/10/04 23:06:27 WARNING mlflow.models.model: Model logged without a signature and input example. Please set `input_example` parameter when logging the model to auto infer the model signature.\n"
     ]
    },
    {
     "name": "stdout",
     "output_type": "stream",
     "text": [
      "🏃 View run trial-3 at: http://localhost:5000/#/experiments/2/runs/baf47c08bac542d59c0556288300f040\n",
      "🧪 View experiment at: http://localhost:5000/#/experiments/2\n"
     ]
    },
    {
     "name": "stderr",
     "output_type": "stream",
     "text": [
      "c:\\Users\\ivanr\\apps\\MLOps\\mna-2.2-tracking\\mlops-env\\Lib\\site-packages\\sklearn\\metrics\\_classification.py:1731: UndefinedMetricWarning: Precision is ill-defined and being set to 0.0 in labels with no predicted samples. Use `zero_division` parameter to control this behavior.\n",
      "  _warn_prf(average, modifier, f\"{metric.capitalize()} is\", result.shape[0])\n",
      "2025/10/04 23:06:33 WARNING mlflow.models.model: `artifact_path` is deprecated. Please use `name` instead.\n",
      "2025/10/04 23:06:38 WARNING mlflow.models.model: Model logged without a signature and input example. Please set `input_example` parameter when logging the model to auto infer the model signature.\n"
     ]
    },
    {
     "name": "stdout",
     "output_type": "stream",
     "text": [
      "🏃 View run trial-4 at: http://localhost:5000/#/experiments/2/runs/20c57124c48045cfacde7123836d2d56\n",
      "🧪 View experiment at: http://localhost:5000/#/experiments/2\n"
     ]
    },
    {
     "name": "stderr",
     "output_type": "stream",
     "text": [
      "c:\\Users\\ivanr\\apps\\MLOps\\mna-2.2-tracking\\mlops-env\\Lib\\site-packages\\sklearn\\metrics\\_classification.py:1731: UndefinedMetricWarning: Precision is ill-defined and being set to 0.0 in labels with no predicted samples. Use `zero_division` parameter to control this behavior.\n",
      "  _warn_prf(average, modifier, f\"{metric.capitalize()} is\", result.shape[0])\n",
      "2025/10/04 23:07:25 WARNING mlflow.models.model: `artifact_path` is deprecated. Please use `name` instead.\n",
      "2025/10/04 23:07:29 WARNING mlflow.models.model: Model logged without a signature and input example. Please set `input_example` parameter when logging the model to auto infer the model signature.\n"
     ]
    },
    {
     "name": "stdout",
     "output_type": "stream",
     "text": [
      "🏃 View run trial-5 at: http://localhost:5000/#/experiments/2/runs/1281a19ad5da488dafd672f3ae0a2e83\n",
      "🧪 View experiment at: http://localhost:5000/#/experiments/2\n",
      "🏃 View run random-forest-classifier at: http://localhost:5000/#/experiments/2/runs/acbc3dce4cf742be985e6be4eb60c65e\n",
      "🧪 View experiment at: http://localhost:5000/#/experiments/2\n"
     ]
    }
   ],
   "source": [
    "from sklearn.metrics import accuracy_score\n",
    "\n",
    "with mlflow.start_run(run_name=\"random-forest-classifier\") as parent_run:\n",
    "    mlflow.set_tag(\"stage\", \"tuning\")\n",
    "    mlflow.set_tag(\"model_family\", \"RandomForestClassifier\")\n",
    "\n",
    "    for i, params in enumerate(param_grid, 1):\n",
    "        with mlflow.start_run(run_name=f\"trial-{i}\", nested=True):\n",
    "            # train\n",
    "            model = RandomForestClassifier(\n",
    "                n_estimators=params[\"n_estimators\"],\n",
    "                max_depth=params[\"max_depth\"],\n",
    "                min_samples_split=params[\"min_samples_split\"],\n",
    "                min_samples_leaf=params[\"min_samples_leaf\"],\n",
    "                n_jobs=-1,\n",
    "                random_state=42,\n",
    "            ).fit(X_train, y_train)\n",
    "\n",
    "            # eval\n",
    "            y_pred = model.predict(X_test)\n",
    "            acc = accuracy_score(y_test, y_pred)\n",
    "\n",
    "            # log params/metrics + model\n",
    "            mlflow.log_params(params)\n",
    "            mlflow.log_metric(\"accuracy\", acc)\n",
    "            mlflow.sklearn.log_model(model, artifact_path=\"model\")"
   ]
  },
  {
   "cell_type": "code",
   "execution_count": 40,
   "id": "ca096b79",
   "metadata": {},
   "outputs": [],
   "source": [
    "from mlflow.tracking import MlflowClient\n",
    "\n",
    "client = MlflowClient()\n",
    "EXPERIMENT_NAME = \"rf-classifier-nested-tuning\"\n",
    "exp = client.get_experiment_by_name(EXPERIMENT_NAME)\n",
    "\n",
    "df = mlflow.search_runs(\n",
    "    experiment_ids=[exp.experiment_id],\n",
    "    output_format=\"pandas\",\n",
    ")"
   ]
  },
  {
   "cell_type": "code",
   "execution_count": 41,
   "id": "d48c3d6f",
   "metadata": {},
   "outputs": [
    {
     "data": {
      "text/html": [
       "<div>\n",
       "<style scoped>\n",
       "    .dataframe tbody tr th:only-of-type {\n",
       "        vertical-align: middle;\n",
       "    }\n",
       "\n",
       "    .dataframe tbody tr th {\n",
       "        vertical-align: top;\n",
       "    }\n",
       "\n",
       "    .dataframe thead th {\n",
       "        text-align: right;\n",
       "    }\n",
       "</style>\n",
       "<table border=\"1\" class=\"dataframe\">\n",
       "  <thead>\n",
       "    <tr style=\"text-align: right;\">\n",
       "      <th></th>\n",
       "      <th>run_id</th>\n",
       "      <th>experiment_id</th>\n",
       "      <th>status</th>\n",
       "      <th>artifact_uri</th>\n",
       "      <th>start_time</th>\n",
       "      <th>end_time</th>\n",
       "      <th>metrics.training_score</th>\n",
       "      <th>metrics.accuracy_score_X_test</th>\n",
       "      <th>metrics.training_accuracy_score</th>\n",
       "      <th>metrics.training_recall_score</th>\n",
       "      <th>...</th>\n",
       "      <th>params.n_estimators</th>\n",
       "      <th>tags.mlflow.user</th>\n",
       "      <th>tags.estimator_name</th>\n",
       "      <th>tags.estimator_class</th>\n",
       "      <th>tags.mlflow.source.name</th>\n",
       "      <th>tags.mlflow.source.type</th>\n",
       "      <th>tags.mlflow.parentRunId</th>\n",
       "      <th>tags.mlflow.runName</th>\n",
       "      <th>tags.stage</th>\n",
       "      <th>tags.model_family</th>\n",
       "    </tr>\n",
       "  </thead>\n",
       "  <tbody>\n",
       "    <tr>\n",
       "      <th>0</th>\n",
       "      <td>1281a19ad5da488dafd672f3ae0a2e83</td>\n",
       "      <td>2</td>\n",
       "      <td>FINISHED</td>\n",
       "      <td>file:C:/Users/ivanr/apps/MLOps/mna-2.2-trackin...</td>\n",
       "      <td>2025-10-05 05:06:38.335000+00:00</td>\n",
       "      <td>2025-10-05 05:07:29.775000+00:00</td>\n",
       "      <td>0.877248</td>\n",
       "      <td>0.637500</td>\n",
       "      <td>0.877248</td>\n",
       "      <td>0.877248</td>\n",
       "      <td>...</td>\n",
       "      <td>200</td>\n",
       "      <td>ivanr</td>\n",
       "      <td>RandomForestClassifier</td>\n",
       "      <td>sklearn.ensemble._forest.RandomForestClassifier</td>\n",
       "      <td>c:\\Users\\ivanr\\apps\\MLOps\\mna-2.2-tracking\\mlo...</td>\n",
       "      <td>LOCAL</td>\n",
       "      <td>acbc3dce4cf742be985e6be4eb60c65e</td>\n",
       "      <td>trial-5</td>\n",
       "      <td>None</td>\n",
       "      <td>None</td>\n",
       "    </tr>\n",
       "    <tr>\n",
       "      <th>1</th>\n",
       "      <td>20c57124c48045cfacde7123836d2d56</td>\n",
       "      <td>2</td>\n",
       "      <td>FINISHED</td>\n",
       "      <td>file:C:/Users/ivanr/apps/MLOps/mna-2.2-trackin...</td>\n",
       "      <td>2025-10-05 05:06:27.896000+00:00</td>\n",
       "      <td>2025-10-05 05:06:38.282000+00:00</td>\n",
       "      <td>0.924159</td>\n",
       "      <td>0.640625</td>\n",
       "      <td>0.924159</td>\n",
       "      <td>0.924159</td>\n",
       "      <td>...</td>\n",
       "      <td>400</td>\n",
       "      <td>ivanr</td>\n",
       "      <td>RandomForestClassifier</td>\n",
       "      <td>sklearn.ensemble._forest.RandomForestClassifier</td>\n",
       "      <td>c:\\Users\\ivanr\\apps\\MLOps\\mna-2.2-tracking\\mlo...</td>\n",
       "      <td>LOCAL</td>\n",
       "      <td>acbc3dce4cf742be985e6be4eb60c65e</td>\n",
       "      <td>trial-4</td>\n",
       "      <td>None</td>\n",
       "      <td>None</td>\n",
       "    </tr>\n",
       "    <tr>\n",
       "      <th>2</th>\n",
       "      <td>baf47c08bac542d59c0556288300f040</td>\n",
       "      <td>2</td>\n",
       "      <td>FINISHED</td>\n",
       "      <td>file:C:/Users/ivanr/apps/MLOps/mna-2.2-trackin...</td>\n",
       "      <td>2025-10-05 05:06:18.020000+00:00</td>\n",
       "      <td>2025-10-05 05:06:27.845000+00:00</td>\n",
       "      <td>0.935887</td>\n",
       "      <td>0.646875</td>\n",
       "      <td>0.935887</td>\n",
       "      <td>0.935887</td>\n",
       "      <td>...</td>\n",
       "      <td>300</td>\n",
       "      <td>ivanr</td>\n",
       "      <td>RandomForestClassifier</td>\n",
       "      <td>sklearn.ensemble._forest.RandomForestClassifier</td>\n",
       "      <td>c:\\Users\\ivanr\\apps\\MLOps\\mna-2.2-tracking\\mlo...</td>\n",
       "      <td>LOCAL</td>\n",
       "      <td>acbc3dce4cf742be985e6be4eb60c65e</td>\n",
       "      <td>trial-3</td>\n",
       "      <td>None</td>\n",
       "      <td>None</td>\n",
       "    </tr>\n",
       "    <tr>\n",
       "      <th>3</th>\n",
       "      <td>f0ecb842d0cd461dac00f014a5c28aec</td>\n",
       "      <td>2</td>\n",
       "      <td>FINISHED</td>\n",
       "      <td>file:C:/Users/ivanr/apps/MLOps/mna-2.2-trackin...</td>\n",
       "      <td>2025-10-05 05:06:06.457000+00:00</td>\n",
       "      <td>2025-10-05 05:06:17.962000+00:00</td>\n",
       "      <td>0.842846</td>\n",
       "      <td>0.631250</td>\n",
       "      <td>0.842846</td>\n",
       "      <td>0.842846</td>\n",
       "      <td>...</td>\n",
       "      <td>200</td>\n",
       "      <td>ivanr</td>\n",
       "      <td>RandomForestClassifier</td>\n",
       "      <td>sklearn.ensemble._forest.RandomForestClassifier</td>\n",
       "      <td>c:\\Users\\ivanr\\apps\\MLOps\\mna-2.2-tracking\\mlo...</td>\n",
       "      <td>LOCAL</td>\n",
       "      <td>acbc3dce4cf742be985e6be4eb60c65e</td>\n",
       "      <td>trial-2</td>\n",
       "      <td>None</td>\n",
       "      <td>None</td>\n",
       "    </tr>\n",
       "    <tr>\n",
       "      <th>4</th>\n",
       "      <td>3827d61f38614c779acd5ad76bb250c1</td>\n",
       "      <td>2</td>\n",
       "      <td>FINISHED</td>\n",
       "      <td>file:C:/Users/ivanr/apps/MLOps/mna-2.2-trackin...</td>\n",
       "      <td>2025-10-05 05:05:57.165000+00:00</td>\n",
       "      <td>2025-10-05 05:06:06.401000+00:00</td>\n",
       "      <td>1.000000</td>\n",
       "      <td>0.659375</td>\n",
       "      <td>1.000000</td>\n",
       "      <td>1.000000</td>\n",
       "      <td>...</td>\n",
       "      <td>100</td>\n",
       "      <td>ivanr</td>\n",
       "      <td>RandomForestClassifier</td>\n",
       "      <td>sklearn.ensemble._forest.RandomForestClassifier</td>\n",
       "      <td>c:\\Users\\ivanr\\apps\\MLOps\\mna-2.2-tracking\\mlo...</td>\n",
       "      <td>LOCAL</td>\n",
       "      <td>acbc3dce4cf742be985e6be4eb60c65e</td>\n",
       "      <td>trial-1</td>\n",
       "      <td>None</td>\n",
       "      <td>None</td>\n",
       "    </tr>\n",
       "    <tr>\n",
       "      <th>5</th>\n",
       "      <td>acbc3dce4cf742be985e6be4eb60c65e</td>\n",
       "      <td>2</td>\n",
       "      <td>FINISHED</td>\n",
       "      <td>file:C:/Users/ivanr/apps/MLOps/mna-2.2-trackin...</td>\n",
       "      <td>2025-10-05 05:05:55.003000+00:00</td>\n",
       "      <td>2025-10-05 05:07:29.828000+00:00</td>\n",
       "      <td>NaN</td>\n",
       "      <td>NaN</td>\n",
       "      <td>NaN</td>\n",
       "      <td>NaN</td>\n",
       "      <td>...</td>\n",
       "      <td>None</td>\n",
       "      <td>ivanr</td>\n",
       "      <td>None</td>\n",
       "      <td>None</td>\n",
       "      <td>c:\\Users\\ivanr\\apps\\MLOps\\mna-2.2-tracking\\mlo...</td>\n",
       "      <td>LOCAL</td>\n",
       "      <td>None</td>\n",
       "      <td>random-forest-classifier</td>\n",
       "      <td>tuning</td>\n",
       "      <td>RandomForestClassifier</td>\n",
       "    </tr>\n",
       "  </tbody>\n",
       "</table>\n",
       "<p>6 rows × 43 columns</p>\n",
       "</div>"
      ],
      "text/plain": [
       "                             run_id experiment_id    status  \\\n",
       "0  1281a19ad5da488dafd672f3ae0a2e83             2  FINISHED   \n",
       "1  20c57124c48045cfacde7123836d2d56             2  FINISHED   \n",
       "2  baf47c08bac542d59c0556288300f040             2  FINISHED   \n",
       "3  f0ecb842d0cd461dac00f014a5c28aec             2  FINISHED   \n",
       "4  3827d61f38614c779acd5ad76bb250c1             2  FINISHED   \n",
       "5  acbc3dce4cf742be985e6be4eb60c65e             2  FINISHED   \n",
       "\n",
       "                                        artifact_uri  \\\n",
       "0  file:C:/Users/ivanr/apps/MLOps/mna-2.2-trackin...   \n",
       "1  file:C:/Users/ivanr/apps/MLOps/mna-2.2-trackin...   \n",
       "2  file:C:/Users/ivanr/apps/MLOps/mna-2.2-trackin...   \n",
       "3  file:C:/Users/ivanr/apps/MLOps/mna-2.2-trackin...   \n",
       "4  file:C:/Users/ivanr/apps/MLOps/mna-2.2-trackin...   \n",
       "5  file:C:/Users/ivanr/apps/MLOps/mna-2.2-trackin...   \n",
       "\n",
       "                        start_time                         end_time  \\\n",
       "0 2025-10-05 05:06:38.335000+00:00 2025-10-05 05:07:29.775000+00:00   \n",
       "1 2025-10-05 05:06:27.896000+00:00 2025-10-05 05:06:38.282000+00:00   \n",
       "2 2025-10-05 05:06:18.020000+00:00 2025-10-05 05:06:27.845000+00:00   \n",
       "3 2025-10-05 05:06:06.457000+00:00 2025-10-05 05:06:17.962000+00:00   \n",
       "4 2025-10-05 05:05:57.165000+00:00 2025-10-05 05:06:06.401000+00:00   \n",
       "5 2025-10-05 05:05:55.003000+00:00 2025-10-05 05:07:29.828000+00:00   \n",
       "\n",
       "   metrics.training_score  metrics.accuracy_score_X_test  \\\n",
       "0                0.877248                       0.637500   \n",
       "1                0.924159                       0.640625   \n",
       "2                0.935887                       0.646875   \n",
       "3                0.842846                       0.631250   \n",
       "4                1.000000                       0.659375   \n",
       "5                     NaN                            NaN   \n",
       "\n",
       "   metrics.training_accuracy_score  metrics.training_recall_score  ...  \\\n",
       "0                         0.877248                       0.877248  ...   \n",
       "1                         0.924159                       0.924159  ...   \n",
       "2                         0.935887                       0.935887  ...   \n",
       "3                         0.842846                       0.842846  ...   \n",
       "4                         1.000000                       1.000000  ...   \n",
       "5                              NaN                            NaN  ...   \n",
       "\n",
       "   params.n_estimators  tags.mlflow.user     tags.estimator_name  \\\n",
       "0                  200             ivanr  RandomForestClassifier   \n",
       "1                  400             ivanr  RandomForestClassifier   \n",
       "2                  300             ivanr  RandomForestClassifier   \n",
       "3                  200             ivanr  RandomForestClassifier   \n",
       "4                  100             ivanr  RandomForestClassifier   \n",
       "5                 None             ivanr                    None   \n",
       "\n",
       "                              tags.estimator_class  \\\n",
       "0  sklearn.ensemble._forest.RandomForestClassifier   \n",
       "1  sklearn.ensemble._forest.RandomForestClassifier   \n",
       "2  sklearn.ensemble._forest.RandomForestClassifier   \n",
       "3  sklearn.ensemble._forest.RandomForestClassifier   \n",
       "4  sklearn.ensemble._forest.RandomForestClassifier   \n",
       "5                                             None   \n",
       "\n",
       "                             tags.mlflow.source.name tags.mlflow.source.type  \\\n",
       "0  c:\\Users\\ivanr\\apps\\MLOps\\mna-2.2-tracking\\mlo...                   LOCAL   \n",
       "1  c:\\Users\\ivanr\\apps\\MLOps\\mna-2.2-tracking\\mlo...                   LOCAL   \n",
       "2  c:\\Users\\ivanr\\apps\\MLOps\\mna-2.2-tracking\\mlo...                   LOCAL   \n",
       "3  c:\\Users\\ivanr\\apps\\MLOps\\mna-2.2-tracking\\mlo...                   LOCAL   \n",
       "4  c:\\Users\\ivanr\\apps\\MLOps\\mna-2.2-tracking\\mlo...                   LOCAL   \n",
       "5  c:\\Users\\ivanr\\apps\\MLOps\\mna-2.2-tracking\\mlo...                   LOCAL   \n",
       "\n",
       "            tags.mlflow.parentRunId       tags.mlflow.runName tags.stage  \\\n",
       "0  acbc3dce4cf742be985e6be4eb60c65e                   trial-5       None   \n",
       "1  acbc3dce4cf742be985e6be4eb60c65e                   trial-4       None   \n",
       "2  acbc3dce4cf742be985e6be4eb60c65e                   trial-3       None   \n",
       "3  acbc3dce4cf742be985e6be4eb60c65e                   trial-2       None   \n",
       "4  acbc3dce4cf742be985e6be4eb60c65e                   trial-1       None   \n",
       "5                              None  random-forest-classifier     tuning   \n",
       "\n",
       "        tags.model_family  \n",
       "0                    None  \n",
       "1                    None  \n",
       "2                    None  \n",
       "3                    None  \n",
       "4                    None  \n",
       "5  RandomForestClassifier  \n",
       "\n",
       "[6 rows x 43 columns]"
      ]
     },
     "execution_count": 41,
     "metadata": {},
     "output_type": "execute_result"
    }
   ],
   "source": [
    "df"
   ]
  },
  {
   "cell_type": "code",
   "execution_count": 42,
   "id": "d2458798",
   "metadata": {},
   "outputs": [],
   "source": [
    "# keep only runs that actually logged accuracy\n",
    "df = df[df[\"metrics.accuracy\"].notna()]\n",
    "df = df.sort_values(\"metrics.accuracy\", ascending=False)"
   ]
  },
  {
   "cell_type": "code",
   "execution_count": 43,
   "id": "42bf0479",
   "metadata": {},
   "outputs": [
    {
     "data": {
      "text/html": [
       "<div>\n",
       "<style scoped>\n",
       "    .dataframe tbody tr th:only-of-type {\n",
       "        vertical-align: middle;\n",
       "    }\n",
       "\n",
       "    .dataframe tbody tr th {\n",
       "        vertical-align: top;\n",
       "    }\n",
       "\n",
       "    .dataframe thead th {\n",
       "        text-align: right;\n",
       "    }\n",
       "</style>\n",
       "<table border=\"1\" class=\"dataframe\">\n",
       "  <thead>\n",
       "    <tr style=\"text-align: right;\">\n",
       "      <th></th>\n",
       "      <th>run_id</th>\n",
       "      <th>experiment_id</th>\n",
       "      <th>status</th>\n",
       "      <th>artifact_uri</th>\n",
       "      <th>start_time</th>\n",
       "      <th>end_time</th>\n",
       "      <th>metrics.training_score</th>\n",
       "      <th>metrics.accuracy_score_X_test</th>\n",
       "      <th>metrics.training_accuracy_score</th>\n",
       "      <th>metrics.training_recall_score</th>\n",
       "      <th>...</th>\n",
       "      <th>params.n_estimators</th>\n",
       "      <th>tags.mlflow.user</th>\n",
       "      <th>tags.estimator_name</th>\n",
       "      <th>tags.estimator_class</th>\n",
       "      <th>tags.mlflow.source.name</th>\n",
       "      <th>tags.mlflow.source.type</th>\n",
       "      <th>tags.mlflow.parentRunId</th>\n",
       "      <th>tags.mlflow.runName</th>\n",
       "      <th>tags.stage</th>\n",
       "      <th>tags.model_family</th>\n",
       "    </tr>\n",
       "  </thead>\n",
       "  <tbody>\n",
       "    <tr>\n",
       "      <th>4</th>\n",
       "      <td>3827d61f38614c779acd5ad76bb250c1</td>\n",
       "      <td>2</td>\n",
       "      <td>FINISHED</td>\n",
       "      <td>file:C:/Users/ivanr/apps/MLOps/mna-2.2-trackin...</td>\n",
       "      <td>2025-10-05 05:05:57.165000+00:00</td>\n",
       "      <td>2025-10-05 05:06:06.401000+00:00</td>\n",
       "      <td>1.000000</td>\n",
       "      <td>0.659375</td>\n",
       "      <td>1.000000</td>\n",
       "      <td>1.000000</td>\n",
       "      <td>...</td>\n",
       "      <td>100</td>\n",
       "      <td>ivanr</td>\n",
       "      <td>RandomForestClassifier</td>\n",
       "      <td>sklearn.ensemble._forest.RandomForestClassifier</td>\n",
       "      <td>c:\\Users\\ivanr\\apps\\MLOps\\mna-2.2-tracking\\mlo...</td>\n",
       "      <td>LOCAL</td>\n",
       "      <td>acbc3dce4cf742be985e6be4eb60c65e</td>\n",
       "      <td>trial-1</td>\n",
       "      <td>None</td>\n",
       "      <td>None</td>\n",
       "    </tr>\n",
       "    <tr>\n",
       "      <th>2</th>\n",
       "      <td>baf47c08bac542d59c0556288300f040</td>\n",
       "      <td>2</td>\n",
       "      <td>FINISHED</td>\n",
       "      <td>file:C:/Users/ivanr/apps/MLOps/mna-2.2-trackin...</td>\n",
       "      <td>2025-10-05 05:06:18.020000+00:00</td>\n",
       "      <td>2025-10-05 05:06:27.845000+00:00</td>\n",
       "      <td>0.935887</td>\n",
       "      <td>0.646875</td>\n",
       "      <td>0.935887</td>\n",
       "      <td>0.935887</td>\n",
       "      <td>...</td>\n",
       "      <td>300</td>\n",
       "      <td>ivanr</td>\n",
       "      <td>RandomForestClassifier</td>\n",
       "      <td>sklearn.ensemble._forest.RandomForestClassifier</td>\n",
       "      <td>c:\\Users\\ivanr\\apps\\MLOps\\mna-2.2-tracking\\mlo...</td>\n",
       "      <td>LOCAL</td>\n",
       "      <td>acbc3dce4cf742be985e6be4eb60c65e</td>\n",
       "      <td>trial-3</td>\n",
       "      <td>None</td>\n",
       "      <td>None</td>\n",
       "    </tr>\n",
       "    <tr>\n",
       "      <th>1</th>\n",
       "      <td>20c57124c48045cfacde7123836d2d56</td>\n",
       "      <td>2</td>\n",
       "      <td>FINISHED</td>\n",
       "      <td>file:C:/Users/ivanr/apps/MLOps/mna-2.2-trackin...</td>\n",
       "      <td>2025-10-05 05:06:27.896000+00:00</td>\n",
       "      <td>2025-10-05 05:06:38.282000+00:00</td>\n",
       "      <td>0.924159</td>\n",
       "      <td>0.640625</td>\n",
       "      <td>0.924159</td>\n",
       "      <td>0.924159</td>\n",
       "      <td>...</td>\n",
       "      <td>400</td>\n",
       "      <td>ivanr</td>\n",
       "      <td>RandomForestClassifier</td>\n",
       "      <td>sklearn.ensemble._forest.RandomForestClassifier</td>\n",
       "      <td>c:\\Users\\ivanr\\apps\\MLOps\\mna-2.2-tracking\\mlo...</td>\n",
       "      <td>LOCAL</td>\n",
       "      <td>acbc3dce4cf742be985e6be4eb60c65e</td>\n",
       "      <td>trial-4</td>\n",
       "      <td>None</td>\n",
       "      <td>None</td>\n",
       "    </tr>\n",
       "    <tr>\n",
       "      <th>0</th>\n",
       "      <td>1281a19ad5da488dafd672f3ae0a2e83</td>\n",
       "      <td>2</td>\n",
       "      <td>FINISHED</td>\n",
       "      <td>file:C:/Users/ivanr/apps/MLOps/mna-2.2-trackin...</td>\n",
       "      <td>2025-10-05 05:06:38.335000+00:00</td>\n",
       "      <td>2025-10-05 05:07:29.775000+00:00</td>\n",
       "      <td>0.877248</td>\n",
       "      <td>0.637500</td>\n",
       "      <td>0.877248</td>\n",
       "      <td>0.877248</td>\n",
       "      <td>...</td>\n",
       "      <td>200</td>\n",
       "      <td>ivanr</td>\n",
       "      <td>RandomForestClassifier</td>\n",
       "      <td>sklearn.ensemble._forest.RandomForestClassifier</td>\n",
       "      <td>c:\\Users\\ivanr\\apps\\MLOps\\mna-2.2-tracking\\mlo...</td>\n",
       "      <td>LOCAL</td>\n",
       "      <td>acbc3dce4cf742be985e6be4eb60c65e</td>\n",
       "      <td>trial-5</td>\n",
       "      <td>None</td>\n",
       "      <td>None</td>\n",
       "    </tr>\n",
       "    <tr>\n",
       "      <th>3</th>\n",
       "      <td>f0ecb842d0cd461dac00f014a5c28aec</td>\n",
       "      <td>2</td>\n",
       "      <td>FINISHED</td>\n",
       "      <td>file:C:/Users/ivanr/apps/MLOps/mna-2.2-trackin...</td>\n",
       "      <td>2025-10-05 05:06:06.457000+00:00</td>\n",
       "      <td>2025-10-05 05:06:17.962000+00:00</td>\n",
       "      <td>0.842846</td>\n",
       "      <td>0.631250</td>\n",
       "      <td>0.842846</td>\n",
       "      <td>0.842846</td>\n",
       "      <td>...</td>\n",
       "      <td>200</td>\n",
       "      <td>ivanr</td>\n",
       "      <td>RandomForestClassifier</td>\n",
       "      <td>sklearn.ensemble._forest.RandomForestClassifier</td>\n",
       "      <td>c:\\Users\\ivanr\\apps\\MLOps\\mna-2.2-tracking\\mlo...</td>\n",
       "      <td>LOCAL</td>\n",
       "      <td>acbc3dce4cf742be985e6be4eb60c65e</td>\n",
       "      <td>trial-2</td>\n",
       "      <td>None</td>\n",
       "      <td>None</td>\n",
       "    </tr>\n",
       "  </tbody>\n",
       "</table>\n",
       "<p>5 rows × 43 columns</p>\n",
       "</div>"
      ],
      "text/plain": [
       "                             run_id experiment_id    status  \\\n",
       "4  3827d61f38614c779acd5ad76bb250c1             2  FINISHED   \n",
       "2  baf47c08bac542d59c0556288300f040             2  FINISHED   \n",
       "1  20c57124c48045cfacde7123836d2d56             2  FINISHED   \n",
       "0  1281a19ad5da488dafd672f3ae0a2e83             2  FINISHED   \n",
       "3  f0ecb842d0cd461dac00f014a5c28aec             2  FINISHED   \n",
       "\n",
       "                                        artifact_uri  \\\n",
       "4  file:C:/Users/ivanr/apps/MLOps/mna-2.2-trackin...   \n",
       "2  file:C:/Users/ivanr/apps/MLOps/mna-2.2-trackin...   \n",
       "1  file:C:/Users/ivanr/apps/MLOps/mna-2.2-trackin...   \n",
       "0  file:C:/Users/ivanr/apps/MLOps/mna-2.2-trackin...   \n",
       "3  file:C:/Users/ivanr/apps/MLOps/mna-2.2-trackin...   \n",
       "\n",
       "                        start_time                         end_time  \\\n",
       "4 2025-10-05 05:05:57.165000+00:00 2025-10-05 05:06:06.401000+00:00   \n",
       "2 2025-10-05 05:06:18.020000+00:00 2025-10-05 05:06:27.845000+00:00   \n",
       "1 2025-10-05 05:06:27.896000+00:00 2025-10-05 05:06:38.282000+00:00   \n",
       "0 2025-10-05 05:06:38.335000+00:00 2025-10-05 05:07:29.775000+00:00   \n",
       "3 2025-10-05 05:06:06.457000+00:00 2025-10-05 05:06:17.962000+00:00   \n",
       "\n",
       "   metrics.training_score  metrics.accuracy_score_X_test  \\\n",
       "4                1.000000                       0.659375   \n",
       "2                0.935887                       0.646875   \n",
       "1                0.924159                       0.640625   \n",
       "0                0.877248                       0.637500   \n",
       "3                0.842846                       0.631250   \n",
       "\n",
       "   metrics.training_accuracy_score  metrics.training_recall_score  ...  \\\n",
       "4                         1.000000                       1.000000  ...   \n",
       "2                         0.935887                       0.935887  ...   \n",
       "1                         0.924159                       0.924159  ...   \n",
       "0                         0.877248                       0.877248  ...   \n",
       "3                         0.842846                       0.842846  ...   \n",
       "\n",
       "   params.n_estimators  tags.mlflow.user     tags.estimator_name  \\\n",
       "4                  100             ivanr  RandomForestClassifier   \n",
       "2                  300             ivanr  RandomForestClassifier   \n",
       "1                  400             ivanr  RandomForestClassifier   \n",
       "0                  200             ivanr  RandomForestClassifier   \n",
       "3                  200             ivanr  RandomForestClassifier   \n",
       "\n",
       "                              tags.estimator_class  \\\n",
       "4  sklearn.ensemble._forest.RandomForestClassifier   \n",
       "2  sklearn.ensemble._forest.RandomForestClassifier   \n",
       "1  sklearn.ensemble._forest.RandomForestClassifier   \n",
       "0  sklearn.ensemble._forest.RandomForestClassifier   \n",
       "3  sklearn.ensemble._forest.RandomForestClassifier   \n",
       "\n",
       "                             tags.mlflow.source.name tags.mlflow.source.type  \\\n",
       "4  c:\\Users\\ivanr\\apps\\MLOps\\mna-2.2-tracking\\mlo...                   LOCAL   \n",
       "2  c:\\Users\\ivanr\\apps\\MLOps\\mna-2.2-tracking\\mlo...                   LOCAL   \n",
       "1  c:\\Users\\ivanr\\apps\\MLOps\\mna-2.2-tracking\\mlo...                   LOCAL   \n",
       "0  c:\\Users\\ivanr\\apps\\MLOps\\mna-2.2-tracking\\mlo...                   LOCAL   \n",
       "3  c:\\Users\\ivanr\\apps\\MLOps\\mna-2.2-tracking\\mlo...                   LOCAL   \n",
       "\n",
       "            tags.mlflow.parentRunId tags.mlflow.runName tags.stage  \\\n",
       "4  acbc3dce4cf742be985e6be4eb60c65e             trial-1       None   \n",
       "2  acbc3dce4cf742be985e6be4eb60c65e             trial-3       None   \n",
       "1  acbc3dce4cf742be985e6be4eb60c65e             trial-4       None   \n",
       "0  acbc3dce4cf742be985e6be4eb60c65e             trial-5       None   \n",
       "3  acbc3dce4cf742be985e6be4eb60c65e             trial-2       None   \n",
       "\n",
       "  tags.model_family  \n",
       "4              None  \n",
       "2              None  \n",
       "1              None  \n",
       "0              None  \n",
       "3              None  \n",
       "\n",
       "[5 rows x 43 columns]"
      ]
     },
     "execution_count": 43,
     "metadata": {},
     "output_type": "execute_result"
    }
   ],
   "source": [
    "df"
   ]
  },
  {
   "cell_type": "code",
   "execution_count": 44,
   "id": "9cb3578b",
   "metadata": {},
   "outputs": [],
   "source": [
    "best_row = df.iloc[0]\n",
    "best_run_id = best_row[\"run_id\"]\n",
    "best_accuracy = best_row[\"metrics.accuracy\"]"
   ]
  },
  {
   "cell_type": "code",
   "execution_count": 45,
   "id": "7550ee8e",
   "metadata": {},
   "outputs": [],
   "source": [
    "# Fetch the params of the best run (handy for auditing/promotion message)\n",
    "best_run = client.get_run(best_run_id)\n",
    "best_params = best_run.data.params"
   ]
  },
  {
   "cell_type": "code",
   "execution_count": 46,
   "id": "a6eb321f",
   "metadata": {},
   "outputs": [
    {
     "data": {
      "text/plain": [
       "{'bootstrap': 'True',\n",
       " 'ccp_alpha': '0.0',\n",
       " 'class_weight': 'None',\n",
       " 'criterion': 'gini',\n",
       " 'max_depth': 'None',\n",
       " 'max_features': 'sqrt',\n",
       " 'max_leaf_nodes': 'None',\n",
       " 'max_samples': 'None',\n",
       " 'min_impurity_decrease': '0.0',\n",
       " 'min_samples_leaf': '1',\n",
       " 'min_samples_split': '2',\n",
       " 'min_weight_fraction_leaf': '0.0',\n",
       " 'monotonic_cst': 'None',\n",
       " 'n_estimators': '100',\n",
       " 'n_jobs': '-1',\n",
       " 'oob_score': 'False',\n",
       " 'random_state': '42',\n",
       " 'verbose': '0',\n",
       " 'warm_start': 'False'}"
      ]
     },
     "execution_count": 46,
     "metadata": {},
     "output_type": "execute_result"
    }
   ],
   "source": [
    "best_params"
   ]
  },
  {
   "cell_type": "markdown",
   "id": "c8629b91",
   "metadata": {},
   "source": [
    "# Register Model"
   ]
  },
  {
   "cell_type": "code",
   "execution_count": 47,
   "id": "dc8e336d",
   "metadata": {},
   "outputs": [
    {
     "name": "stderr",
     "output_type": "stream",
     "text": [
      "Successfully registered model 'rf-classifier'.\n",
      "2025/10/04 23:11:57 WARNING mlflow.tracking._model_registry.fluent: Run with id 3827d61f38614c779acd5ad76bb250c1 has no artifacts at artifact path 'model', registering model based on models:/m-b929f35b8b2c46fcb89393af08d72390 instead\n",
      "2025/10/04 23:11:57 INFO mlflow.store.model_registry.abstract_store: Waiting up to 300 seconds for model version to finish creation. Model name: rf-classifier, version 1\n",
      "Created version '1' of model 'rf-classifier'.\n"
     ]
    },
    {
     "data": {
      "text/plain": [
       "<ModelVersion: aliases=[], creation_timestamp=1759641117266, current_stage='None', deployment_job_state=<ModelVersionDeploymentJobState: current_task_name='', job_id='', job_state='DEPLOYMENT_JOB_CONNECTION_STATE_UNSPECIFIED', run_id='', run_state='DEPLOYMENT_JOB_RUN_STATE_UNSPECIFIED'>, description='', last_updated_timestamp=1759641117266, metrics=None, model_id=None, name='rf-classifier', params=None, run_id='3827d61f38614c779acd5ad76bb250c1', run_link='', source='models:/m-b929f35b8b2c46fcb89393af08d72390', status='READY', status_message=None, tags={}, user_id='', version='1'>"
      ]
     },
     "execution_count": 47,
     "metadata": {},
     "output_type": "execute_result"
    }
   ],
   "source": [
    "result = mlflow.register_model(\n",
    "    model_uri=f\"runs:/{best_run_id}/model\",\n",
    "    name=\"rf-classifier\"\n",
    ")\n",
    "result"
   ]
  },
  {
   "cell_type": "code",
   "execution_count": 48,
   "id": "7af8c14b",
   "metadata": {},
   "outputs": [],
   "source": [
    "client.set_registered_model_alias(\n",
    "    name=\"rf-classifier\",\n",
    "    alias=\"champion\",\n",
    "    version=result.version  \n",
    ")"
   ]
  },
  {
   "cell_type": "code",
   "execution_count": 49,
   "id": "6d9017db",
   "metadata": {},
   "outputs": [
    {
     "data": {
      "text/plain": [
       "'3827d61f38614c779acd5ad76bb250c1'"
      ]
     },
     "execution_count": 49,
     "metadata": {},
     "output_type": "execute_result"
    }
   ],
   "source": [
    "best_run_id"
   ]
  },
  {
   "cell_type": "code",
   "execution_count": null,
   "id": "cb8dde5e",
   "metadata": {},
   "outputs": [],
   "source": [
    "# !mlflow models serve -m \"models:/rf-classifier@champion\" --host 0.0.0.0 --port 7000 --env-manager local"
   ]
  },
  {
   "cell_type": "markdown",
   "id": "e54e3f48",
   "metadata": {},
   "source": [
    "# Test the served model"
   ]
  },
  {
   "cell_type": "code",
   "execution_count": 50,
   "id": "1a925772",
   "metadata": {},
   "outputs": [
    {
     "data": {
      "text/plain": [
       "[[7.7, 0.56, 0.08, 2.5, 0.114, 14.0, 46.0, 0.9971, 3.24, 0.66, 9.6],\n",
       " [7.8,\n",
       "  0.5,\n",
       "  0.17,\n",
       "  1.6,\n",
       "  0.0819999999999999,\n",
       "  21.0,\n",
       "  102.0,\n",
       "  0.996,\n",
       "  3.39,\n",
       "  0.48,\n",
       "  9.5]]"
      ]
     },
     "execution_count": 50,
     "metadata": {},
     "output_type": "execute_result"
    }
   ],
   "source": [
    "X_test.iloc[0:2].values.tolist()"
   ]
  },
  {
   "cell_type": "code",
   "execution_count": 51,
   "id": "21dc2f00",
   "metadata": {},
   "outputs": [
    {
     "name": "stdout",
     "output_type": "stream",
     "text": [
      "200 {\"predictions\": [5, 5]}\n"
     ]
    }
   ],
   "source": [
    "import requests, json\n",
    "\n",
    "url = \"http://localhost:7000/invocations\"\n",
    "payload = {\n",
    "    \"inputs\": X_test.iloc[0:2].values.tolist()\n",
    "}\n",
    "\n",
    "r = requests.post(url, headers={\"Content-Type\": \"application/json\"}, data=json.dumps(payload))\n",
    "print(r.status_code, r.text)"
   ]
  },
  {
   "cell_type": "code",
   "execution_count": null,
   "id": "e24761f7",
   "metadata": {},
   "outputs": [],
   "source": []
  }
 ],
 "metadata": {
  "kernelspec": {
   "display_name": "mlops-env",
   "language": "python",
   "name": "python3"
  },
  "language_info": {
   "codemirror_mode": {
    "name": "ipython",
    "version": 3
   },
   "file_extension": ".py",
   "mimetype": "text/x-python",
   "name": "python",
   "nbconvert_exporter": "python",
   "pygments_lexer": "ipython3",
   "version": "3.13.7"
  }
 },
 "nbformat": 4,
 "nbformat_minor": 5
}
