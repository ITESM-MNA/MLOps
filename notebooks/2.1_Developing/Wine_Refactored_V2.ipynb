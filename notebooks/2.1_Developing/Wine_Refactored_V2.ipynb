{
 "cells": [
  {
   "cell_type": "markdown",
   "metadata": {},
   "source": [
    "# Setup"
   ]
  },
  {
   "cell_type": "code",
   "execution_count": 8,
   "metadata": {},
   "outputs": [],
   "source": [
    "import pandas as pd\n",
    "import numpy as np\n",
    "import seaborn as sns\n",
    "import matplotlib.pyplot as plt\n",
    "from sklearn.base import BaseEstimator, TransformerMixin\n",
    "from sklearn.pipeline import Pipeline\n",
    "from sklearn.preprocessing import StandardScaler\n",
    "from sklearn.model_selection import train_test_split, cross_val_score\n",
    "from sklearn.linear_model import LogisticRegression\n",
    "from sklearn.metrics import confusion_matrix, classification_report\n",
    "from sklearn.metrics import ConfusionMatrixDisplay"
   ]
  },
  {
   "cell_type": "markdown",
   "metadata": {},
   "source": [
    "# Creating the classes"
   ]
  },
  {
   "cell_type": "markdown",
   "metadata": {},
   "source": [
    "### Data Explorer"
   ]
  },
  {
   "cell_type": "code",
   "execution_count": 9,
   "metadata": {},
   "outputs": [],
   "source": [
    "class DataExplorer:\n",
    "    @staticmethod\n",
    "    def explore_data(data):\n",
    "        print(data.head().T)\n",
    "        print(data.describe())\n",
    "        print(data.info())\n",
    "    \n",
    "    @staticmethod\n",
    "    def plot_histograms(data):\n",
    "        data.hist(bins=15, figsize=(15, 10))\n",
    "        plt.show()\n",
    "\n",
    "    @staticmethod\n",
    "    def plot_correlation_matrix(data):\n",
    "        plt.figure(figsize=(12, 8))\n",
    "        sns.heatmap(data.corr(), annot=True, fmt=\".2f\", cmap='coolwarm')\n",
    "        plt.show()\n"
   ]
  },
  {
   "cell_type": "markdown",
   "metadata": {},
   "source": [
    "### Wine Quality Model"
   ]
  },
  {
   "cell_type": "code",
   "execution_count": 10,
   "metadata": {},
   "outputs": [],
   "source": [
    "class WineQualityModel:\n",
    "    def __init__(self, filepath):\n",
    "        self.filepath = filepath\n",
    "        self.model_pipeline = Pipeline([\n",
    "            ('scaler', StandardScaler()),\n",
    "            ('classifier', LogisticRegression(max_iter=1000))\n",
    "        ])\n",
    "        self.X_train, self.X_test, self.y_train, self.y_test = [None] * 4\n",
    "\n",
    "    def load_data(self):\n",
    "        self.data = pd.read_csv(self.filepath)\n",
    "        DataExplorer.explore_data(self.data)\n",
    "        return self\n",
    "\n",
    "    def preprocess_data(self):\n",
    "        X = self.data.drop('quality', axis=1)\n",
    "        y = self.data['quality']\n",
    "        self.X_train, self.X_test, self.y_train, self.y_test = train_test_split(X, y, test_size=0.2, random_state=42)\n",
    "        return self\n",
    "    \n",
    "    def train_model(self):\n",
    "        self.model_pipeline.fit(self.X_train, self.y_train)\n",
    "        return self\n",
    "    \n",
    "    def evaluate_model(self):\n",
    "        print(\"Model Evaluation:\")\n",
    "        y_pred = self.model_pipeline.predict(self.X_test)\n",
    "        cm = confusion_matrix(self.y_test, y_pred)\n",
    "        disp = ConfusionMatrixDisplay(confusion_matrix=cm, display_labels=np.unique(self.y_test))\n",
    "        disp.plot(cmap='Blues')\n",
    "        plt.show()\n",
    "        \n",
    "        report = classification_report(self.y_test, y_pred)\n",
    "        print(\"Classification Report:\")\n",
    "        print(report)\n",
    "        return self\n",
    "    \n",
    "    def cross_validate_model(self):\n",
    "        scores = cross_val_score(self.model_pipeline, self.X_train, self.y_train, cv=5)\n",
    "        print(\"Average Accuracy with CV:\", np.mean(scores))\n",
    "        return self\n"
   ]
  },
  {
   "cell_type": "markdown",
   "metadata": {},
   "source": [
    "# Executing the code"
   ]
  },
  {
   "cell_type": "code",
   "execution_count": null,
   "metadata": {},
   "outputs": [],
   "source": [
    "filepath=r'D:\\Training\\ITESM\\MLOps_ITESM\\wine_ml_pipeline\\data\\raw\\wine_quality_df.csv'\n",
    "\n",
    "model = WineQualityModel(filepath)\n",
    "model.load_data()\n",
    "model.preprocess_data()\n",
    "model.train_model()\n",
    "model.evaluate_model()\n",
    "model.cross_validate_model()"
   ]
  }
 ],
 "metadata": {
  "kernelspec": {
   "display_name": "practice3",
   "language": "python",
   "name": "python3"
  },
  "language_info": {
   "codemirror_mode": {
    "name": "ipython",
    "version": 3
   },
   "file_extension": ".py",
   "mimetype": "text/x-python",
   "name": "python",
   "nbconvert_exporter": "python",
   "pygments_lexer": "ipython3",
   "version": "3.11.5"
  }
 },
 "nbformat": 4,
 "nbformat_minor": 2
}
