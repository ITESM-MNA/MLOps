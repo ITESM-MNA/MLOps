{
 "cells": [
  {
   "metadata": {},
   "cell_type": "markdown",
   "source": "# Exploratory Data Analysis (EDA)",
   "id": "17bcd0f6f622e456"
  },
  {
   "metadata": {},
   "cell_type": "markdown",
   "source": "## Import Libraries",
   "id": "86cf231c93f4b239"
  },
  {
   "metadata": {
    "ExecuteTime": {
     "end_time": "2024-10-01T19:41:50.447539Z",
     "start_time": "2024-10-01T19:41:50.281221Z"
    }
   },
   "cell_type": "code",
   "source": [
    "from collections import namedtuple\n",
    "import gin\n",
    "import logging\n",
    "import sys\n",
    "\n",
    "import pandas as pd\n",
    "import matplotlib.pyplot as plt\n",
    "import seaborn as sns\n",
    "\n",
    "\n",
    "from mlops.data.data_loader import DataLoader"
   ],
   "id": "initial_id",
   "outputs": [],
   "execution_count": 1
  },
  {
   "metadata": {},
   "cell_type": "markdown",
   "source": "### Configuration",
   "id": "17da39af28e06661"
  },
  {
   "metadata": {
    "ExecuteTime": {
     "end_time": "2024-10-01T19:41:50.463124Z",
     "start_time": "2024-10-01T19:41:50.449011Z"
    }
   },
   "cell_type": "code",
   "source": [
    "# Clear any existing logging handlers\n",
    "for handler in logging.root.handlers[:]:\n",
    "    logging.root.removeHandler(handler)\n",
    "    \n",
    "# Set the logging level and format\n",
    "logging.basicConfig(format='%(asctime)s | %(levelname)s : %(message)s', \n",
    "                    level=logging.INFO,\n",
    "                    stream=sys.stdout)\n",
    "logger = logging.getLogger()\n",
    "logger.setLevel(logging.INFO)\n",
    "logger.info(\"Logger Configured\")"
   ],
   "id": "e02553cc319997eb",
   "outputs": [
    {
     "name": "stdout",
     "output_type": "stream",
     "text": [
      "2024-10-01 13:41:50,451 | INFO : Logger Configured\n"
     ]
    }
   ],
   "execution_count": 2
  },
  {
   "metadata": {
    "ExecuteTime": {
     "end_time": "2024-10-01T19:41:50.479109Z",
     "start_time": "2024-10-01T19:41:50.465111Z"
    }
   },
   "cell_type": "code",
   "source": [
    "# Load the configuration using gin\n",
    "gin.enter_interactive_mode()\n",
    "Args = namedtuple('Args', ['config'])\n",
    "args = Args(config='..\\..\\mlops\\config\\config.gin')\n",
    "gin.parse_config_file(args.config)\n",
    "gin.bind_parameter('DataLoader.reload', False)"
   ],
   "id": "2e048ec53368827",
   "outputs": [],
   "execution_count": 3
  },
  {
   "metadata": {},
   "cell_type": "markdown",
   "source": "## Load Data",
   "id": "f79f6ce69bf12ce"
  },
  {
   "metadata": {
    "ExecuteTime": {
     "end_time": "2024-10-01T19:41:51.790317Z",
     "start_time": "2024-10-01T19:41:50.481112Z"
    }
   },
   "cell_type": "code",
   "source": [
    "# Initialize the DataLoader instance using the gin configuration\n",
    "data_loader = DataLoader()\n",
    "\n",
    "# Load the data using the DataLoader\n",
    "amphibians_df  = data_loader.load()"
   ],
   "id": "dc08a61fdd91cc5f",
   "outputs": [
    {
     "name": "stdout",
     "output_type": "stream",
     "text": [
      "2024-10-01 13:41:50,485 | INFO : Base directory set to: C:\\Users\\arman\\PycharmProjects\\MLOps\n",
      "2024-10-01 13:41:50,487 | INFO : Resolved local_csv_path to: None\n",
      "2024-10-01 13:41:50,488 | INFO : Resolved local_zip_path to: C:\\Users\\arman\\PycharmProjects\\MLOps\\data\\amphibians.zip\n",
      "2024-10-01 13:41:50,488 | INFO : Resolved extract_dir to: C:\\Users\\arman\\PycharmProjects\\MLOps\\data\\extracted\n",
      "2024-10-01 13:41:50,490 | INFO : Reload is set to False and zip file already exists. Using existing zip file: C:\\Users\\arman\\PycharmProjects\\MLOps\\data\\amphibians.zip\n",
      "2024-10-01 13:41:50,494 | INFO : Files in the archive: ['dataset.csv']\n",
      "2024-10-01 13:41:50,495 | INFO : The file 'amphibians.csv' already exists. Skipping rename.\n",
      "2024-10-01 13:41:50,496 | ERROR : An error occurred: name 'extracted_file_name' is not defined\n"
     ]
    },
    {
     "ename": "NameError",
     "evalue": "name 'extracted_file_name' is not defined",
     "output_type": "error",
     "traceback": [
      "\u001B[1;31m---------------------------------------------------------------------------\u001B[0m",
      "\u001B[1;31mNameError\u001B[0m                                 Traceback (most recent call last)",
      "Cell \u001B[1;32mIn[4], line 5\u001B[0m\n\u001B[0;32m      2\u001B[0m data_loader \u001B[38;5;241m=\u001B[39m DataLoader()\n\u001B[0;32m      4\u001B[0m \u001B[38;5;66;03m# Load the data using the DataLoader\u001B[39;00m\n\u001B[1;32m----> 5\u001B[0m amphibians_df  \u001B[38;5;241m=\u001B[39m \u001B[43mdata_loader\u001B[49m\u001B[38;5;241;43m.\u001B[39;49m\u001B[43mload\u001B[49m\u001B[43m(\u001B[49m\u001B[43m)\u001B[49m\n",
      "File \u001B[1;32m~\\PycharmProjects\\MLOps\\mlops\\data\\data_loader.py:119\u001B[0m, in \u001B[0;36mDataLoader.load\u001B[1;34m(self)\u001B[0m\n\u001B[0;32m    111\u001B[0m     \u001B[38;5;28;01mreturn\u001B[39;00m pd\u001B[38;5;241m.\u001B[39mread_csv(\n\u001B[0;32m    112\u001B[0m         \u001B[38;5;28mself\u001B[39m\u001B[38;5;241m.\u001B[39mlocal_csv_path,\n\u001B[0;32m    113\u001B[0m         delimiter\u001B[38;5;241m=\u001B[39m\u001B[38;5;28mself\u001B[39m\u001B[38;5;241m.\u001B[39mdelimiter,\n\u001B[0;32m    114\u001B[0m         encoding\u001B[38;5;241m=\u001B[39m\u001B[38;5;28mself\u001B[39m\u001B[38;5;241m.\u001B[39mencoding,\n\u001B[0;32m    115\u001B[0m         on_bad_lines\u001B[38;5;241m=\u001B[39m\u001B[38;5;124m'\u001B[39m\u001B[38;5;124merror\u001B[39m\u001B[38;5;124m'\u001B[39m \u001B[38;5;28;01mif\u001B[39;00m \u001B[38;5;28mself\u001B[39m\u001B[38;5;241m.\u001B[39merror_bad_lines \u001B[38;5;28;01melse\u001B[39;00m \u001B[38;5;124m'\u001B[39m\u001B[38;5;124mskip\u001B[39m\u001B[38;5;124m'\u001B[39m\n\u001B[0;32m    116\u001B[0m     )\n\u001B[0;32m    118\u001B[0m \u001B[38;5;66;03m# If reload is True, or the CSV doesn't exist, download and extract\u001B[39;00m\n\u001B[1;32m--> 119\u001B[0m extracted_file \u001B[38;5;241m=\u001B[39m \u001B[38;5;28;43mself\u001B[39;49m\u001B[38;5;241;43m.\u001B[39;49m\u001B[43mdownload_and_extract\u001B[49m\u001B[43m(\u001B[49m\u001B[43m)\u001B[49m\n\u001B[0;32m    120\u001B[0m logger\u001B[38;5;241m.\u001B[39minfo(\u001B[38;5;124mf\u001B[39m\u001B[38;5;124m\"\u001B[39m\u001B[38;5;124mLoading data from: \u001B[39m\u001B[38;5;132;01m{\u001B[39;00mextracted_file\u001B[38;5;132;01m}\u001B[39;00m\u001B[38;5;124m\"\u001B[39m)\n\u001B[0;32m    121\u001B[0m data \u001B[38;5;241m=\u001B[39m pd\u001B[38;5;241m.\u001B[39mread_csv(\n\u001B[0;32m    122\u001B[0m     extracted_file,\n\u001B[0;32m    123\u001B[0m     delimiter\u001B[38;5;241m=\u001B[39m\u001B[38;5;28mself\u001B[39m\u001B[38;5;241m.\u001B[39mdelimiter,\n\u001B[0;32m    124\u001B[0m     encoding\u001B[38;5;241m=\u001B[39m\u001B[38;5;28mself\u001B[39m\u001B[38;5;241m.\u001B[39mencoding,\n\u001B[0;32m    125\u001B[0m     on_bad_lines\u001B[38;5;241m=\u001B[39m\u001B[38;5;124m'\u001B[39m\u001B[38;5;124merror\u001B[39m\u001B[38;5;124m'\u001B[39m \u001B[38;5;28;01mif\u001B[39;00m \u001B[38;5;28mself\u001B[39m\u001B[38;5;241m.\u001B[39merror_bad_lines \u001B[38;5;28;01melse\u001B[39;00m \u001B[38;5;124m'\u001B[39m\u001B[38;5;124mskip\u001B[39m\u001B[38;5;124m'\u001B[39m\n\u001B[0;32m    126\u001B[0m )\n",
      "File \u001B[1;32m~\\PycharmProjects\\MLOps\\mlops\\data\\data_loader.py:97\u001B[0m, in \u001B[0;36mDataLoader.download_and_extract\u001B[1;34m(self)\u001B[0m\n\u001B[0;32m     95\u001B[0m     \u001B[38;5;28;01mif\u001B[39;00m original_file_path\u001B[38;5;241m.\u001B[39mexists() \u001B[38;5;129;01mand\u001B[39;00m original_file_path \u001B[38;5;241m!=\u001B[39m renamed_file_path:\n\u001B[0;32m     96\u001B[0m         original_file_path\u001B[38;5;241m.\u001B[39munlink()\n\u001B[1;32m---> 97\u001B[0m         logger\u001B[38;5;241m.\u001B[39minfo(\u001B[38;5;124mf\u001B[39m\u001B[38;5;124m\"\u001B[39m\u001B[38;5;124mDeleted the original file \u001B[39m\u001B[38;5;124m'\u001B[39m\u001B[38;5;132;01m{\u001B[39;00mextracted_file_name\u001B[38;5;132;01m}\u001B[39;00m\u001B[38;5;124m'\u001B[39m\u001B[38;5;124m.\u001B[39m\u001B[38;5;124m\"\u001B[39m)\n\u001B[0;32m     99\u001B[0m \u001B[38;5;28;01mreturn\u001B[39;00m renamed_file_path\n",
      "\u001B[1;31mNameError\u001B[0m: name 'extracted_file_name' is not defined"
     ]
    }
   ],
   "execution_count": 4
  },
  {
   "metadata": {},
   "cell_type": "markdown",
   "source": "## Preliminary Data Analysis",
   "id": "db313808a3e2517a"
  },
  {
   "metadata": {},
   "cell_type": "code",
   "source": "amphibians_df .head()",
   "id": "46d2eca313716e92",
   "outputs": [],
   "execution_count": null
  },
  {
   "metadata": {},
   "cell_type": "code",
   "source": "amphibians_df.info()",
   "id": "771d9b905a4faee6",
   "outputs": [],
   "execution_count": null
  },
  {
   "metadata": {},
   "cell_type": "markdown",
   "source": "## Initial Data Preprocessing",
   "id": "e55e455286764490"
  },
  {
   "metadata": {},
   "cell_type": "code",
   "source": [
    "# Rename columns based on the considerations provided\n",
    "amphibians_df.columns = ['ID', 'MV', 'SR', 'NR', 'TR', 'VR', 'SUR1', 'SUR2', 'SUR3', 'UR', 'FR', \n",
    "                         'OR', 'RR', 'BR', 'MR', 'CR', 'Green frogs', 'Brown frogs', \n",
    "                         'Common toad', 'Fire-bellied toad', 'Tree frog', \n",
    "                         'Common newt', 'Great crested newt']\n",
    "\n",
    "# Convert columns to appropriate data types\n",
    "amphibians_df['ID'] = pd.to_numeric(amphibians_df['ID'], errors='coerce')\n",
    "amphibians_df['SR'] = pd.to_numeric(amphibians_df['SR'], errors='coerce')\n",
    "amphibians_df['NR'] = pd.to_numeric(amphibians_df['NR'], errors='coerce')\n",
    "amphibians_df['OR'] = pd.to_numeric(amphibians_df['OR'], errors='coerce')\n",
    "amphibians_df['RR'] = pd.to_numeric(amphibians_df['RR'], errors='coerce')\n",
    "amphibians_df['BR'] = pd.to_numeric(amphibians_df['BR'], errors='coerce')\n",
    "\n",
    "# Convert categorical columns\n",
    "categorical_columns = ['MV', 'TR', 'VR', 'SUR1', 'SUR2', 'SUR3', 'UR', 'FR', 'MR', 'CR', \n",
    "                       'Green frogs', 'Brown frogs', 'Common toad', 'Fire-bellied toad', \n",
    "                       'Tree frog', 'Common newt', 'Great crested newt']\n",
    "\n",
    "numerical_columns = ['ID', 'SR', 'NR', 'OR', 'RR', 'BR']\n",
    "\n",
    "for col in categorical_columns:\n",
    "    amphibians_df[col] = amphibians_df[col].astype('category')"
   ],
   "id": "8f10fe1629e35546",
   "outputs": [],
   "execution_count": null
  },
  {
   "metadata": {},
   "cell_type": "markdown",
   "source": "## Exploratory Data Analysis (EDA)",
   "id": "b0116abe02fe20cf"
  },
  {
   "metadata": {},
   "cell_type": "markdown",
   "source": "### Summary Statistics",
   "id": "80e86b70d633eb59"
  },
  {
   "metadata": {},
   "cell_type": "code",
   "source": "amphibians_df.describe()",
   "id": "c50649a1c1590e43",
   "outputs": [],
   "execution_count": null
  },
  {
   "metadata": {},
   "cell_type": "markdown",
   "source": "### Missing Values",
   "id": "a58d19dffbee8ca3"
  },
  {
   "metadata": {},
   "cell_type": "code",
   "source": [
    "missing_values = amphibians_df.isnull().sum()\n",
    "missing_values = missing_values[missing_values > 0]\n",
    "logger.info(\"\\nColumns with Missing Values:\")\n",
    "logger.info(missing_values)"
   ],
   "id": "6c038b31eb8227f6",
   "outputs": [],
   "execution_count": null
  },
  {
   "metadata": {},
   "cell_type": "markdown",
   "source": "#### Distribution of Categorical Columns",
   "id": "2b070bff664cee2c"
  },
  {
   "metadata": {},
   "cell_type": "code",
   "source": [
    "plt.figure(figsize=(16, 12))\n",
    "for i, column in enumerate(numerical_columns, 1):\n",
    "    plt.subplot(3, 2, i)\n",
    "    sns.histplot(amphibians_df[column], bins=20, kde=True, color='blue')\n",
    "    plt.title(f'Distribution of {column}')\n",
    "plt.tight_layout()\n",
    "plt.show()"
   ],
   "id": "da180bf3366efe36",
   "outputs": [],
   "execution_count": null
  },
  {
   "metadata": {},
   "cell_type": "markdown",
   "source": "### Correlation Heatmap",
   "id": "feb6bad87cac7b70"
  },
  {
   "metadata": {},
   "cell_type": "code",
   "source": [
    "plt.figure(figsize=(10, 8))\n",
    "correlation_matrix = amphibians_df[numerical_columns].corr()\n",
    "sns.heatmap(correlation_matrix, annot=True, cmap='coolwarm', linewidths=0.5)\n",
    "plt.title('Correlation Heatmap of Numerical Features')\n",
    "plt.show()"
   ],
   "id": "784f6cd3340ff195",
   "outputs": [],
   "execution_count": null
  },
  {
   "metadata": {},
   "cell_type": "markdown",
   "source": "### Pair Plot for Numerical Columns",
   "id": "c99e67bd3f5b875a"
  },
  {
   "metadata": {},
   "cell_type": "code",
   "source": [
    "sns.pairplot(amphibians_df[numerical_columns], diag_kind='kde', plot_kws={'alpha': 0.7})\n",
    "plt.suptitle('Pair Plot of Selected Numerical Features', y=1.02)\n",
    "plt.show()"
   ],
   "id": "2d32a0ca4f52ef5f",
   "outputs": [],
   "execution_count": null
  },
  {
   "metadata": {},
   "cell_type": "markdown",
   "source": "### Count plot for Categorical MV column",
   "id": "3597153e39233cf6"
  },
  {
   "metadata": {},
   "cell_type": "code",
   "source": [
    "# 4. Count plot of a key categorical column (e.g., 'MV')\n",
    "plt.figure(figsize=(10, 6))\n",
    "sns.countplot(data=amphibians_df, x='MV', hue='MV', palette='viridis', legend=False)  # Assign hue to x and set legend=False\n",
    "plt.title('Count Plot of Motorway (MV) Categories')\n",
    "plt.xticks(rotation=45)\n",
    "plt.show()"
   ],
   "id": "95e3693056a86130",
   "outputs": [],
   "execution_count": null
  },
  {
   "metadata": {},
   "cell_type": "markdown",
   "source": "### Box Plot for Numerical vs. Categorical",
   "id": "18688dc8394ececb"
  },
  {
   "metadata": {},
   "cell_type": "code",
   "source": [
    "# 5. Box Plot for Numerical vs. Categorical\n",
    "plt.figure(figsize=(12, 6))\n",
    "sns.boxplot(x='MV', y='SR', data=amphibians_df, hue='MV', palette='Set2', legend=False)  # Assign hue to x\n",
    "plt.title('Box Plot of Speed Rating (SR) vs. Motorway (MV)')\n",
    "plt.xticks(rotation=45)\n",
    "plt.show()"
   ],
   "id": "f7743c81cbd53a77",
   "outputs": [],
   "execution_count": null
  },
  {
   "metadata": {},
   "cell_type": "code",
   "source": "",
   "id": "8f25490c9a334e98",
   "outputs": [],
   "execution_count": null
  },
  {
   "metadata": {},
   "cell_type": "code",
   "source": [
    "# 6. Count plots for Labels\n",
    "plt.figure(figsize=(16, 10))\n",
    "for i, label in enumerate(['Green frogs', 'Brown frogs', 'Common toad', 'Fire-bellied toad', 'Tree frog', \n",
    "                           'Common newt', 'Great crested newt'], 1):\n",
    "    plt.subplot(4, 2, i)\n",
    "    sns.countplot(x=label, data=amphibians_df, hue=label, legend=False)  # Assign hue to x\n",
    "    plt.title(f'Count of {label}')\n",
    "    plt.xlabel(label)\n",
    "plt.tight_layout()\n",
    "plt.show()\n"
   ],
   "id": "1890c073ed7274f6",
   "outputs": [],
   "execution_count": null
  },
  {
   "metadata": {},
   "cell_type": "code",
   "source": "",
   "id": "93e5c00ddafbee5d",
   "outputs": [],
   "execution_count": null
  },
  {
   "metadata": {},
   "cell_type": "code",
   "source": "",
   "id": "597b0624d9ff5ff9",
   "outputs": [],
   "execution_count": null
  }
 ],
 "metadata": {
  "kernelspec": {
   "display_name": "Python 3",
   "language": "python",
   "name": "python3"
  },
  "language_info": {
   "codemirror_mode": {
    "name": "ipython",
    "version": 2
   },
   "file_extension": ".py",
   "mimetype": "text/x-python",
   "name": "python",
   "nbconvert_exporter": "python",
   "pygments_lexer": "ipython2",
   "version": "2.7.6"
  }
 },
 "nbformat": 4,
 "nbformat_minor": 5
}
