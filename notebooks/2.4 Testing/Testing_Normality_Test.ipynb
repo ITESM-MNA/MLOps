{
 "cells": [
  {
   "cell_type": "code",
   "execution_count": 1,
   "metadata": {},
   "outputs": [],
   "source": [
    "import scipy.stats as stats\n",
    "from sklearn import datasets\n",
    "\n",
    "import pytest\n",
    "import ipytest\n",
    "ipytest.autoconfig()"
   ]
  },
  {
   "cell_type": "code",
   "execution_count": 2,
   "metadata": {},
   "outputs": [],
   "source": [
    "@pytest.fixture(scope=\"module\")\n",
    "def iris_dataset():\n",
    "    return datasets.load_iris()"
   ]
  },
  {
   "cell_type": "code",
   "execution_count": 6,
   "metadata": {},
   "outputs": [
    {
     "name": "stdout",
     "output_type": "stream",
     "text": [
      "\u001b[31mF\u001b[0m\u001b[31m                                                                                            [100%]\u001b[0m\n",
      "============================================= FAILURES =============================================\n",
      "\u001b[31m\u001b[1m______________________________________ test_feature_normality ______________________________________\u001b[0m\n",
      "\n",
      "iris_dataset = {'data': array([[5.1, 3.5, 1.4, 0.2],\n",
      "       [4.9, 3. , 1.4, 0.2],\n",
      "       [4.7, 3.2, 1.3, 0.2],\n",
      "       [4.6, 3.1, 1.5,... width (cm)', 'petal length (cm)', 'petal width (cm)'], 'filename': 'iris.csv', 'data_module': 'sklearn.datasets.data'}\n",
      "\n",
      "    \u001b[0m\u001b[94mdef\u001b[39;49;00m\u001b[90m \u001b[39;49;00m\u001b[92mtest_feature_normality\u001b[39;49;00m(iris_dataset):\u001b[90m\u001b[39;49;00m\n",
      "        \u001b[94mfor\u001b[39;49;00m i, feature \u001b[95min\u001b[39;49;00m \u001b[96menumerate\u001b[39;49;00m(iris_dataset.feature_names):\u001b[90m\u001b[39;49;00m\n",
      "            _, p_value = stats.shapiro(iris_dataset.data[:, i])\u001b[90m\u001b[39;49;00m\n",
      ">           \u001b[94massert\u001b[39;49;00m p_value < \u001b[94m0.05\u001b[39;49;00m, \u001b[33mf\u001b[39;49;00m\u001b[33m\"\u001b[39;49;00m\u001b[33m{\u001b[39;49;00mfeature\u001b[33m}\u001b[39;49;00m\u001b[33m fails normality test with p-value: \u001b[39;49;00m\u001b[33m{\u001b[39;49;00mp_value\u001b[33m}\u001b[39;49;00m\u001b[33m\"\u001b[39;49;00m\u001b[90m\u001b[39;49;00m\n",
      "\u001b[1m\u001b[31mE           AssertionError: sepal width (cm) fails normality test with p-value: 0.10115426916130282\u001b[0m\n",
      "\u001b[1m\u001b[31mE           assert np.float64(0.10115426916130282) < 0.05\u001b[0m\n",
      "\n",
      "\u001b[1m\u001b[31m/var/folders/2x/x5szvnx53ys514l74xky860w0000gn/T/ipykernel_23831/1759791626.py\u001b[0m:4: AssertionError\n",
      "\u001b[36m\u001b[1m===================================== short test summary info ======================================\u001b[0m\n",
      "\u001b[31mFAILED\u001b[0m t_3a5898cb99a442c286c17bfdd6be8364.py::\u001b[1mtest_feature_normality\u001b[0m - AssertionError: sepal width (cm) fails normality test with p-value: 0.10115426916130282\n",
      "\u001b[31m\u001b[31m\u001b[1m1 failed\u001b[0m\u001b[31m in 0.03s\u001b[0m\u001b[0m\n"
     ]
    }
   ],
   "source": [
    "%%ipytest\n",
    "\n",
    "def test_feature_normality(iris_dataset):\n",
    "    for i, feature in enumerate(iris_dataset.feature_names):\n",
    "        _, p_value = stats.shapiro(iris_dataset.data[:, i])\n",
    "        assert p_value < 0.05, f\"{feature} fails normality test with p-value: {p_value}\""
   ]
  },
  {
   "cell_type": "code",
   "execution_count": 4,
   "metadata": {},
   "outputs": [
    {
     "name": "stdout",
     "output_type": "stream",
     "text": [
      "\u001b[32m.\u001b[0m\u001b[32m                                                                                            [100%]\u001b[0m\n",
      "\u001b[32m\u001b[32m\u001b[1m1 passed\u001b[0m\u001b[32m in 0.02s\u001b[0m\u001b[0m\n"
     ]
    }
   ],
   "source": [
    "%%ipytest\n",
    "\n",
    "def test_sepal_length_between_species(iris_dataset):\n",
    "    setosa = iris_dataset.data[iris_dataset.target == 0][:, 0]  # Longitud del sépalo de setosa\n",
    "    versicolor = iris_dataset.data[iris_dataset.target == 1][:, 0]  # Longitud del sépalo de versicolor\n",
    "    virginica = iris_dataset.data[iris_dataset.target == 2][:, 0]  # Longitud del sépalo de virginica\n",
    "\n",
    "    f_value, p_value = stats.f_oneway(setosa, versicolor, virginica)\n",
    "    assert p_value < 0.05  # Un P-value bajo indica diferencias significativas\n"
   ]
  }
 ],
 "metadata": {
  "kernelspec": {
   "display_name": "venv",
   "language": "python",
   "name": "python3"
  },
  "language_info": {
   "codemirror_mode": {
    "name": "ipython",
    "version": 3
   },
   "file_extension": ".py",
   "mimetype": "text/x-python",
   "name": "python",
   "nbconvert_exporter": "python",
   "pygments_lexer": "ipython3",
   "version": "3.11.9"
  }
 },
 "nbformat": 4,
 "nbformat_minor": 2
}
